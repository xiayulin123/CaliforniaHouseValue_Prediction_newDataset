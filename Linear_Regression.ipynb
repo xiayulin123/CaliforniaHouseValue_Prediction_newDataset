{
 "cells": [
  {
   "cell_type": "code",
   "execution_count": 2,
   "id": "78963fcc",
   "metadata": {},
   "outputs": [],
   "source": [
    "import pandas as pd\n",
    "import numpy as np\n",
    "import matplotlib.pyplot as plt\n",
    "%matplotlib inline"
   ]
  },
  {
   "cell_type": "markdown",
   "id": "a39aca95",
   "metadata": {},
   "source": [
    "## Import the Datasets"
   ]
  },
  {
   "cell_type": "code",
   "execution_count": 3,
   "id": "c860f9f3",
   "metadata": {},
   "outputs": [],
   "source": [
    "df = pd.read_csv('house_prices.csv')\n"
   ]
  },
  {
   "cell_type": "code",
   "execution_count": 4,
   "id": "ffd5061a",
   "metadata": {},
   "outputs": [
    {
     "data": {
      "text/plain": [
       "Index(['Index', 'Title', 'Description', 'Amount(in rupees)',\n",
       "       'Price (in rupees)', 'location', 'Carpet Area', 'Status', 'Floor',\n",
       "       'Transaction', 'Furnishing', 'facing', 'overlooking', 'Society',\n",
       "       'Bathroom', 'Balcony', 'Car Parking', 'Ownership', 'Super Area',\n",
       "       'Dimensions', 'Plot Area'],\n",
       "      dtype='object')"
      ]
     },
     "execution_count": 4,
     "metadata": {},
     "output_type": "execute_result"
    }
   ],
   "source": [
    "df.keys()"
   ]
  },
  {
   "cell_type": "markdown",
   "id": "b64d3124",
   "metadata": {},
   "source": [
    "## Check description of dataset"
   ]
  },
  {
   "cell_type": "code",
   "execution_count": 11,
   "id": "78cf41a3",
   "metadata": {},
   "outputs": [
    {
     "name": "stdout",
     "output_type": "stream",
     "text": [
      "0         Bhiwandi, Thane has an attractive 1 BHK Flat f...\n",
      "1         One can find this stunning 2 BHK flat for sale...\n",
      "2         Up for immediate sale is a 2 BHK apartment in ...\n",
      "3         This beautiful 1 BHK Flat is available for sal...\n",
      "4         This lovely 2 BHK Flat in Pokhran Road, Thane ...\n",
      "                                ...                        \n",
      "187526    This magnificent 3 BHK Flat is available for s...\n",
      "187527    Have a look at this immaculate 3 BHK flat for ...\n",
      "187528    Gazipur, Zirakpur has an appealing 3 BHK flat ...\n",
      "187529    Up for immediate sale is a 2 BHK apartment in ...\n",
      "187530    This exquisite 3 BHK Flat is offered for sale ...\n",
      "Name: Description, Length: 187531, dtype: object\n"
     ]
    }
   ],
   "source": [
    "print(df.Description)"
   ]
  },
  {
   "cell_type": "code",
   "execution_count": null,
   "id": "c31b7e53",
   "metadata": {},
   "outputs": [],
   "source": []
  }
 ],
 "metadata": {
  "kernelspec": {
   "display_name": "Python 3 (ipykernel)",
   "language": "python",
   "name": "python3"
  },
  "language_info": {
   "codemirror_mode": {
    "name": "ipython",
    "version": 3
   },
   "file_extension": ".py",
   "mimetype": "text/x-python",
   "name": "python",
   "nbconvert_exporter": "python",
   "pygments_lexer": "ipython3",
   "version": "3.11.4"
  }
 },
 "nbformat": 4,
 "nbformat_minor": 5
}
