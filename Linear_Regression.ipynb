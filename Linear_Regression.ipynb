{
 "cells": [
  {
   "cell_type": "code",
   "execution_count": 1,
   "id": "78963fcc",
   "metadata": {},
   "outputs": [],
   "source": [
    "import pandas as pd\n",
    "import numpy as np\n",
    "import matplotlib.pyplot as plt\n",
    "%matplotlib inline"
   ]
  },
  {
   "cell_type": "markdown",
   "id": "a39aca95",
   "metadata": {},
   "source": [
    "## Import the Datasets"
   ]
  },
  {
   "cell_type": "code",
   "execution_count": 2,
   "id": "c860f9f3",
   "metadata": {},
   "outputs": [],
   "source": [
    "df = pd.read_csv('house_prices.csv')\n"
   ]
  },
  {
   "cell_type": "code",
   "execution_count": 3,
   "id": "ffd5061a",
   "metadata": {},
   "outputs": [
    {
     "data": {
      "text/plain": [
       "Index(['Index', 'Title', 'Description', 'Amount(in rupees)',\n",
       "       'Price (in rupees)', 'location', 'Carpet Area', 'Status', 'Floor',\n",
       "       'Transaction', 'Furnishing', 'facing', 'overlooking', 'Society',\n",
       "       'Bathroom', 'Balcony', 'Car Parking', 'Ownership', 'Super Area',\n",
       "       'Dimensions', 'Plot Area'],\n",
       "      dtype='object')"
      ]
     },
     "execution_count": 3,
     "metadata": {},
     "output_type": "execute_result"
    }
   ],
   "source": [
    "df.keys()"
   ]
  },
  {
   "cell_type": "markdown",
   "id": "b64d3124",
   "metadata": {},
   "source": [
    "## Check description of dataset"
   ]
  },
  {
   "cell_type": "code",
   "execution_count": 4,
   "id": "78cf41a3",
   "metadata": {},
   "outputs": [],
   "source": [
    "df = df.drop(['Description'], axis=1)"
   ]
  },
  {
   "cell_type": "code",
   "execution_count": 5,
   "id": "c31b7e53",
   "metadata": {},
   "outputs": [
    {
     "data": {
      "text/plain": [
       "Index(['Index', 'Title', 'Amount(in rupees)', 'Price (in rupees)', 'location',\n",
       "       'Carpet Area', 'Status', 'Floor', 'Transaction', 'Furnishing', 'facing',\n",
       "       'overlooking', 'Society', 'Bathroom', 'Balcony', 'Car Parking',\n",
       "       'Ownership', 'Super Area', 'Dimensions', 'Plot Area'],\n",
       "      dtype='object')"
      ]
     },
     "execution_count": 5,
     "metadata": {},
     "output_type": "execute_result"
    }
   ],
   "source": [
    "df.keys()"
   ]
  },
  {
   "cell_type": "code",
   "execution_count": 7,
   "id": "65db97d3",
   "metadata": {
    "scrolled": true
   },
   "outputs": [
    {
     "name": "stdout",
     "output_type": "stream",
     "text": [
      "0         1 BHK Ready to Occupy Flat for sale in Srushti...\n",
      "1         2 BHK Ready to Occupy Flat for sale in Dosti V...\n",
      "2         2 BHK Ready to Occupy Flat for sale in Sunrise...\n",
      "3               1 BHK Ready to Occupy Flat for sale Kasheli\n",
      "4         2 BHK Ready to Occupy Flat for sale in TenX Ha...\n",
      "                                ...                        \n",
      "187526    3 BHK Ready to Occupy Flat for sale in Bollywo...\n",
      "187527    3 BHK Ready to Occupy Flat for sale in Sushma ...\n",
      "187528    3 BHK Ready to Occupy Flat for sale in Bollywo...\n",
      "187529    2 BHK Ready to Occupy Flat for sale in Friends...\n",
      "187530    3 BHK Ready to Occupy Flat for sale in Affinit...\n",
      "Name: Title, Length: 187531, dtype: object\n"
     ]
    }
   ],
   "source": [
    "print(df.Title)"
   ]
  }
 ],
 "metadata": {
  "kernelspec": {
   "display_name": "Python 3 (ipykernel)",
   "language": "python",
   "name": "python3"
  },
  "language_info": {
   "codemirror_mode": {
    "name": "ipython",
    "version": 3
   },
   "file_extension": ".py",
   "mimetype": "text/x-python",
   "name": "python",
   "nbconvert_exporter": "python",
   "pygments_lexer": "ipython3",
   "version": "3.11.4"
  }
 },
 "nbformat": 4,
 "nbformat_minor": 5
}
