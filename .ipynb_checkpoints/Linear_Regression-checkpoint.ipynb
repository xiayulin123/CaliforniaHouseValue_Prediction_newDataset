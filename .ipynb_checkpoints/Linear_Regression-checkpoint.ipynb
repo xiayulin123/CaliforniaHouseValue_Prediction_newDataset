{
 "cells": [
  {
   "cell_type": "code",
   "execution_count": 1,
   "id": "78963fcc",
   "metadata": {},
   "outputs": [],
   "source": [
    "import pandas as pd\n",
    "import numpy as np\n",
    "import matplotlib.pyplot as plt\n",
    "%matplotlib inline"
   ]
  },
  {
   "cell_type": "markdown",
   "id": "a39aca95",
   "metadata": {},
   "source": [
    "## Import the Datasets"
   ]
  },
  {
   "cell_type": "code",
   "execution_count": 2,
   "id": "c860f9f3",
   "metadata": {},
   "outputs": [],
   "source": [
    "df = pd.read_csv('house_prices_optimized.csv')\n"
   ]
  },
  {
   "cell_type": "code",
   "execution_count": 3,
   "id": "ffd5061a",
   "metadata": {},
   "outputs": [
    {
     "data": {
      "text/plain": [
       "Index(['Index', 'Title', 'Description', 'Amount(in rupees)',\n",
       "       'Price (in rupees)', 'location', 'Carpet Area', 'Status', 'Floor',\n",
       "       'Transaction', 'Furnishing', 'facing', 'overlooking', 'Society',\n",
       "       'Bathroom', 'Balcony', 'Car Parking', 'Ownership', 'Super Area',\n",
       "       'Dimensions', 'Plot Area'],\n",
       "      dtype='object')"
      ]
     },
     "execution_count": 3,
     "metadata": {},
     "output_type": "execute_result"
    }
   ],
   "source": [
    "df.keys()"
   ]
  },
  {
   "cell_type": "markdown",
   "id": "b64d3124",
   "metadata": {},
   "source": [
    "## Check description of dataset"
   ]
  },
  {
   "cell_type": "code",
   "execution_count": 4,
   "id": "78cf41a3",
   "metadata": {},
   "outputs": [],
   "source": [
    "df = df.drop(['Description'], axis=1)"
   ]
  },
  {
   "cell_type": "code",
   "execution_count": 5,
   "id": "c31b7e53",
   "metadata": {},
   "outputs": [
    {
     "data": {
      "text/plain": [
       "Index(['Index', 'Title', 'Amount(in rupees)', 'Price (in rupees)', 'location',\n",
       "       'Carpet Area', 'Status', 'Floor', 'Transaction', 'Furnishing', 'facing',\n",
       "       'overlooking', 'Society', 'Bathroom', 'Balcony', 'Car Parking',\n",
       "       'Ownership', 'Super Area', 'Dimensions', 'Plot Area'],\n",
       "      dtype='object')"
      ]
     },
     "execution_count": 5,
     "metadata": {},
     "output_type": "execute_result"
    }
   ],
   "source": [
    "df.keys()"
   ]
  },
  {
   "cell_type": "code",
   "execution_count": 6,
   "id": "65db97d3",
   "metadata": {
    "scrolled": true
   },
   "outputs": [
    {
     "name": "stdout",
     "output_type": "stream",
     "text": [
      "0         1 BHK Ready to Occupy Flat for sale in Srushti...\n",
      "1         2 BHK Ready to Occupy Flat for sale in Dosti V...\n",
      "2         2 BHK Ready to Occupy Flat for sale in Sunrise...\n",
      "3               1 BHK Ready to Occupy Flat for sale Kasheli\n",
      "4         2 BHK Ready to Occupy Flat for sale in TenX Ha...\n",
      "                                ...                        \n",
      "187526    3 BHK Ready to Occupy Flat for sale in Bollywo...\n",
      "187527    3 BHK Ready to Occupy Flat for sale in Sushma ...\n",
      "187528    3 BHK Ready to Occupy Flat for sale in Bollywo...\n",
      "187529    2 BHK Ready to Occupy Flat for sale in Friends...\n",
      "187530    3 BHK Ready to Occupy Flat for sale in Affinit...\n",
      "Name: Title, Length: 187531, dtype: object\n"
     ]
    }
   ],
   "source": [
    "print(df.Title)"
   ]
  },
  {
   "cell_type": "code",
   "execution_count": 7,
   "id": "1d5134f1",
   "metadata": {},
   "outputs": [],
   "source": [
    "df = df.drop(['Title'], axis=1)"
   ]
  },
  {
   "cell_type": "code",
   "execution_count": 8,
   "id": "bd80c7da",
   "metadata": {},
   "outputs": [
    {
     "data": {
      "text/plain": [
       "Index(['Index', 'Amount(in rupees)', 'Price (in rupees)', 'location',\n",
       "       'Carpet Area', 'Status', 'Floor', 'Transaction', 'Furnishing', 'facing',\n",
       "       'overlooking', 'Society', 'Bathroom', 'Balcony', 'Car Parking',\n",
       "       'Ownership', 'Super Area', 'Dimensions', 'Plot Area'],\n",
       "      dtype='object')"
      ]
     },
     "execution_count": 8,
     "metadata": {},
     "output_type": "execute_result"
    }
   ],
   "source": [
    "df.keys()"
   ]
  },
  {
   "cell_type": "code",
   "execution_count": 9,
   "id": "9066d01e",
   "metadata": {},
   "outputs": [],
   "source": [
    "df.to_csv('house_prices_optimized.csv', index=False)"
   ]
  },
  {
   "cell_type": "code",
   "execution_count": 12,
   "id": "557aecb8",
   "metadata": {},
   "outputs": [
    {
     "name": "stdout",
     "output_type": "stream",
     "text": [
      "[master 8430a3d] modified dataset\n",
      " 3 files changed, 187586 insertions(+), 187557 deletions(-)\n",
      " delete mode 100644 house_prices.csv\n",
      " create mode 100644 house_prices_optimized.csv\n"
     ]
    }
   ],
   "source": [
    "!git commit -m \"modified dataset\""
   ]
  },
  {
   "cell_type": "code",
   "execution_count": 13,
   "id": "1d2d6ac4",
   "metadata": {},
   "outputs": [
    {
     "name": "stdout",
     "output_type": "stream",
     "text": [
      "Enumerating objects: 10, done.\n",
      "Counting objects: 100% (10/10), done.\n",
      "Delta compression using up to 16 threads\n",
      "Compressing objects: 100% (10/10), done.\n",
      "Writing objects: 100% (10/10), 7.55 MiB | 2.35 MiB/s, done.\n",
      "Total 10 (delta 2), reused 0 (delta 0), pack-reused 0\n",
      "remote: Resolving deltas: 100% (2/2), done.\u001b[K\n",
      "remote: \u001b[1;31merror\u001b[m: Trace: fcf90aeaa1f5ee97f65be66a209fc13970037439240d5981de41c1ba4d2b2ec8\u001b[K\n",
      "remote: \u001b[1;31merror\u001b[m: See https://gh.io/lfs for more information.\u001b[K\n",
      "remote: \u001b[1;31merror\u001b[m: File house_prices.csv is 101.23 MB; this exceeds GitHub's file size limit of 100.00 MB\u001b[K\n",
      "remote: \u001b[1;31merror\u001b[m: GH001: Large files detected. You may want to try Git Large File Storage - https://git-lfs.github.com.\u001b[K\n",
      "To https://github.com/xiayulin123/HouseValue_Prediction_newDataset.git\n",
      " \u001b[31m! [remote rejected]\u001b[m master -> master (pre-receive hook declined)\n",
      "\u001b[31merror: failed to push some refs to 'https://github.com/xiayulin123/HouseValue_Prediction_newDataset.git'\n",
      "\u001b[m"
     ]
    }
   ],
   "source": [
    "!git push -u origin master"
   ]
  },
  {
   "cell_type": "code",
   "execution_count": 14,
   "id": "28c41ee5",
   "metadata": {},
   "outputs": [
    {
     "name": "stdout",
     "output_type": "stream",
     "text": [
      "On branch master\r\n",
      "Changes not staged for commit:\r\n",
      "  (use \"git add <file>...\" to update what will be committed)\r\n",
      "  (use \"git restore <file>...\" to discard changes in working directory)\r\n",
      "\t\u001b[31mmodified:   Linear_Regression.ipynb\u001b[m\r\n",
      "\r\n",
      "no changes added to commit (use \"git add\" and/or \"git commit -a\")\r\n"
     ]
    }
   ],
   "source": [
    "!git status"
   ]
  },
  {
   "cell_type": "code",
   "execution_count": null,
   "id": "a2c2c4f6",
   "metadata": {},
   "outputs": [],
   "source": []
  }
 ],
 "metadata": {
  "kernelspec": {
   "display_name": "Python 3 (ipykernel)",
   "language": "python",
   "name": "python3"
  },
  "language_info": {
   "codemirror_mode": {
    "name": "ipython",
    "version": 3
   },
   "file_extension": ".py",
   "mimetype": "text/x-python",
   "name": "python",
   "nbconvert_exporter": "python",
   "pygments_lexer": "ipython3",
   "version": "3.11.4"
  }
 },
 "nbformat": 4,
 "nbformat_minor": 5
}
